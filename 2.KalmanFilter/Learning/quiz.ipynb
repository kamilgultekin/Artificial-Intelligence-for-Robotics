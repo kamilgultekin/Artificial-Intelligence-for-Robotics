{
 "cells": [
  {
   "attachments": {},
   "cell_type": "markdown",
   "metadata": {},
   "source": [
    "# Kalman Filter\n",
    "---\n",
    "## What is Kalman Filter?\n",
    "\n",
    "The Kalman filter is a mathematical method used to estimate the state of a system from noisy and potentially incomplete data. It is often used in engineering and science applications to predict the behavior of systems that change over time, such as the position and velocity of a moving object.\n",
    "\n",
    "The Kalman filter works by using a combination of current and past measurements to predict the state of the system at the next time step. It also takes into account the noise and uncertainty in the measurements and can adjust its estimates accordingly.\n",
    "\n",
    "The Kalman filter is particularly useful in situations where the system being modeled is nonlinear and the measurements are noisy, because it can perform well even in these challenging conditions. It has been widely used in a variety of fields, including control engineering, robotics, and economics.\n",
    "\n",
    "---\n",
    "\n",
    "In the context of robotics, the Kalman filter is often used to estimate the state of a robot or other mobile platform. For example, a robot might use a Kalman filter to estimate its position and orientation based on noisy and potentially incomplete data from sensors such as wheel encoders, gyroscopes, and laser rangefinders.\n",
    "\n",
    "The Kalman filter can be particularly useful for robots operating in environments where there is a lot of noise and uncertainty in the measurements, such as in unstructured or dynamic environments. It can help the robot make more accurate estimates of its state, which can in turn improve the performance of its control systems and enable it to make more informed decisions about how to navigate and interact with its surroundings.\n",
    "\n",
    "In summary, the Kalman filter is a powerful tool that can be used to improve the accuracy and reliability of state estimates for robots operating in noisy and uncertain environments.\n"
   ]
  },
  {
   "attachments": {},
   "cell_type": "markdown",
   "metadata": {},
   "source": [
    "For the first problem, you aren't writing any code. Instead, please just change the last argument in f() to maximize the output."
   ]
  },
  {
   "cell_type": "code",
   "execution_count": 3,
   "metadata": {},
   "outputs": [
    {
     "name": "stdout",
     "output_type": "stream",
     "text": [
      "0.12098536225957168\n",
      "Maximum Output is: 0.19947114020071635\n"
     ]
    }
   ],
   "source": [
    "from math import *\n",
    "\n",
    "def f(mu, sigma2, x):\n",
    "    return 1/sqrt(2.*pi*sigma2) * exp(-.5*(x-mu)**2 / sigma2)\n",
    "\n",
    "print(f(10.,4.,8.)) #Change the 8. to something else!\n",
    "###################\n",
    "print('Maximum Output is:',f(10.,4.,10.)) \n"
   ]
  },
  {
   "attachments": {},
   "cell_type": "markdown",
   "metadata": {},
   "source": [
    "---\n",
    "\n",
    "## What is Gaussians?\n",
    "\n",
    "The Gaussian distribution, also known as the normal distribution, is a continuous probability distribution that is defined by a bell-shaped curve. It is one of the most widely used and well-known distributions in statistics and is often used to describe real-valued random variables.\n",
    "\n",
    "The Gaussian distribution is characterized by its mean, which is the peak of the curve, and its standard deviation, which determines the width of the curve. The standard deviation is a measure of the dispersion or spread of the distribution, with larger standard deviations corresponding to wider curves and smaller standard deviations corresponding to narrower curves.\n",
    "\n",
    "The Gaussian distribution has several important properties. It is symmetric around its mean, meaning that the curve is equally balanced on either side of the mean. It is also unimodal, meaning that it has a single peak. In addition, the area under the curve is equal to 1, which means that it represents a valid probability distribution.\n",
    "\n",
    "The Gaussian distribution is often used to model real-valued random variables that have a continuous range of values, such as the measurement noise in a sensor or the errors in a statistical model. It is also widely used in many fields, including economics, engineering, and biology, to describe and analyze data.\n",
    "\n",
    "---\n",
    "\n",
    "The Gaussian distribution is defined by the following function:\n",
    "\n",
    "$f(x;\\mu,\\sigma^2) = \\frac{1}{\\sqrt{2\\pi\\sigma^2}} \\exp \\left(-\\frac{(x-\\mu)^2}{2\\sigma^2} \\right)$\n",
    "\n",
    "where x is the random variable, $\\mu$ is the mean of the distribution, and $\\sigma^2$ is the variance of the distribution.\n",
    "\n",
    "<center>\n",
    "<img src=\"../../docs/images/gaussian.png\" width=\"375\" height=\"250\">\n",
    "<p>Figure of Gaussian Distribution</p>\n",
    "</center>\n",
    "\n",
    "---\n",
    "The Kalman filter is closely related to the Gaussian distribution, because it uses Gaussian distributions to represent the uncertainty in its estimates of the state of a system.\n",
    "\n",
    "In the Kalman filter, the state of the system is represented as a Gaussian distribution, with the mean of the distribution representing the most likely value of the state and the standard deviation representing the uncertainty or spread of the distribution. As new measurements are made, the Kalman filter updates this distribution to incorporate the new information and produce a more accurate estimate of the state.\n",
    "\n",
    "The Kalman filter uses the properties of the Gaussian distribution to perform this update efficiently and accurately. In particular, it takes advantage of the fact that the sum of two Gaussian distributions is itself a Gaussian distribution, which allows it to efficiently combine its current estimate of the state with the new measurements to produce a new, updated estimate.\n",
    "\n",
    "Overall, the Gaussian distribution is an important building block of the Kalman filter, as it is used to represent the uncertainty and noise in the measurements and estimates of the state of the system."
   ]
  },
  {
   "cell_type": "code",
   "execution_count": null,
   "metadata": {},
   "outputs": [],
   "source": []
  }
 ],
 "metadata": {
  "kernelspec": {
   "display_name": "influxdb",
   "language": "python",
   "name": "python3"
  },
  "language_info": {
   "codemirror_mode": {
    "name": "ipython",
    "version": 3
   },
   "file_extension": ".py",
   "mimetype": "text/x-python",
   "name": "python",
   "nbconvert_exporter": "python",
   "pygments_lexer": "ipython3",
   "version": "3.10.4"
  },
  "orig_nbformat": 4,
  "vscode": {
   "interpreter": {
    "hash": "a25d599a2e9280dc659304a6cea12817ac5350485da20306c9a7c613d9928b5e"
   }
  }
 },
 "nbformat": 4,
 "nbformat_minor": 2
}
