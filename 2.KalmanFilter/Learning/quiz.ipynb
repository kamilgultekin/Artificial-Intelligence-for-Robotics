{
 "cells": [
  {
   "attachments": {},
   "cell_type": "markdown",
   "metadata": {},
   "source": [
    "# Kalman Filter\n",
    "---\n",
    "## What is Kalman Filter?\n",
    "\n",
    "The Kalman filter is a mathematical method used to estimate the state of a system from noisy and potentially incomplete data. It is often used in engineering and science applications to predict the behavior of systems that change over time, such as the position and velocity of a moving object.\n",
    "\n",
    "The Kalman filter works by using a combination of current and past measurements to predict the state of the system at the next time step. It also takes into account the noise and uncertainty in the measurements and can adjust its estimates accordingly.\n",
    "\n",
    "The Kalman filter is particularly useful in situations where the system being modeled is nonlinear and the measurements are noisy, because it can perform well even in these challenging conditions. It has been widely used in a variety of fields, including control engineering, robotics, and economics.\n",
    "\n",
    "---\n",
    "\n",
    "In the context of robotics, the Kalman filter is often used to estimate the state of a robot or other mobile platform. For example, a robot might use a Kalman filter to estimate its position and orientation based on noisy and potentially incomplete data from sensors such as wheel encoders, gyroscopes, and laser rangefinders.\n",
    "\n",
    "The Kalman filter can be particularly useful for robots operating in environments where there is a lot of noise and uncertainty in the measurements, such as in unstructured or dynamic environments. It can help the robot make more accurate estimates of its state, which can in turn improve the performance of its control systems and enable it to make more informed decisions about how to navigate and interact with its surroundings.\n",
    "\n",
    "In summary, the Kalman filter is a powerful tool that can be used to improve the accuracy and reliability of state estimates for robots operating in noisy and uncertain environments.\n"
   ]
  },
  {
   "attachments": {},
   "cell_type": "markdown",
   "metadata": {},
   "source": [
    "For the first problem, you aren't writing any code. Instead, please just change the last argument in f() to maximize the output."
   ]
  },
  {
   "cell_type": "code",
   "execution_count": 3,
   "metadata": {},
   "outputs": [
    {
     "name": "stdout",
     "output_type": "stream",
     "text": [
      "0.12098536225957168\n",
      "Maximum Output is: 0.19947114020071635\n"
     ]
    }
   ],
   "source": [
    "from math import *\n",
    "\n",
    "def f(mu, sigma2, x):\n",
    "    return 1/sqrt(2.*pi*sigma2) * exp(-.5*(x-mu)**2 / sigma2)\n",
    "\n",
    "print(f(10.,4.,8.)) #Change the 8. to something else!\n",
    "###################\n",
    "print('Maximum Output is:',f(10.,4.,10.)) \n"
   ]
  },
  {
   "attachments": {},
   "cell_type": "markdown",
   "metadata": {},
   "source": [
    "---\n",
    "\n",
    "## What is Gaussians?\n",
    "\n",
    "The Gaussian distribution, also known as the normal distribution, is a continuous probability distribution that is defined by a bell-shaped curve. It is one of the most widely used and well-known distributions in statistics and is often used to describe real-valued random variables.\n",
    "\n",
    "The Gaussian distribution is characterized by its mean, which is the peak of the curve, and its standard deviation, which determines the width of the curve. The standard deviation is a measure of the dispersion or spread of the distribution, with larger standard deviations corresponding to wider curves and smaller standard deviations corresponding to narrower curves.\n",
    "\n",
    "The Gaussian distribution has several important properties. It is symmetric around its mean, meaning that the curve is equally balanced on either side of the mean. It is also unimodal, meaning that it has a single peak. In addition, the area under the curve is equal to 1, which means that it represents a valid probability distribution.\n",
    "\n",
    "The Gaussian distribution is often used to model real-valued random variables that have a continuous range of values, such as the measurement noise in a sensor or the errors in a statistical model. It is also widely used in many fields, including economics, engineering, and biology, to describe and analyze data.\n",
    "\n",
    "---\n",
    "\n",
    "The Gaussian distribution is defined by the following function:\n",
    "\n",
    "$f(x;\\mu,\\sigma^2) = \\frac{1}{\\sqrt{2\\pi\\sigma^2}} \\exp \\left(-\\frac{(x-\\mu)^2}{2\\sigma^2} \\right)$\n",
    "\n",
    "where x is the random variable, $\\mu$ is the mean of the distribution, and $\\sigma^2$ is the variance of the distribution.\n",
    "\n",
    "<center>\n",
    "<img src=\"../../docs/images/gaussian.png\" width=\"375\" height=\"250\">\n",
    "<p>Figure of Gaussian Distribution</p>\n",
    "</center>\n",
    "\n",
    "---\n",
    "The Kalman filter is closely related to the Gaussian distribution, because it uses Gaussian distributions to represent the uncertainty in its estimates of the state of a system.\n",
    "\n",
    "In the Kalman filter, the state of the system is represented as a Gaussian distribution, with the mean of the distribution representing the most likely value of the state and the standard deviation representing the uncertainty or spread of the distribution. As new measurements are made, the Kalman filter updates this distribution to incorporate the new information and produce a more accurate estimate of the state.\n",
    "\n",
    "The Kalman filter uses the properties of the Gaussian distribution to perform this update efficiently and accurately. In particular, it takes advantage of the fact that the sum of two Gaussian distributions is itself a Gaussian distribution, which allows it to efficiently combine its current estimate of the state with the new measurements to produce a new, updated estimate.\n",
    "\n",
    "Overall, the Gaussian distribution is an important building block of the Kalman filter, as it is used to represent the uncertainty and noise in the measurements and estimates of the state of the system."
   ]
  },
  {
   "attachments": {},
   "cell_type": "markdown",
   "metadata": {},
   "source": [
    "---\n",
    "\n",
    "Write a program to update your mean and variance when given the mean and variance of your belief and the mean and variance of your measurement. This program will update the parameters of your belief function.\n"
   ]
  },
  {
   "cell_type": "code",
   "execution_count": 7,
   "metadata": {},
   "outputs": [
    {
     "name": "stdout",
     "output_type": "stream",
     "text": [
      "New mean and variance is: [12.4, 1.6]\n"
     ]
    }
   ],
   "source": [
    "def update(mean1, var1, mean2, var2):\n",
    "    new_mean = (var2 * mean1 + var1 * mean2) / (var1 + var2)\n",
    "    new_var = 1/(1/var1 + 1/var2)\n",
    "    return [new_mean, new_var]\n",
    "\n",
    "print('New mean and variance is:', update(10.,8.,13., 2.))"
   ]
  },
  {
   "attachments": {},
   "cell_type": "markdown",
   "metadata": {},
   "source": [
    "Write a program that will predict your new mean and variance given the mean and variance of your prior belief and the mean and variance of your motion. "
   ]
  },
  {
   "cell_type": "code",
   "execution_count": 11,
   "metadata": {},
   "outputs": [
    {
     "name": "stdout",
     "output_type": "stream",
     "text": [
      "New mean and variance is: [22.0, 8.0]\n"
     ]
    }
   ],
   "source": [
    "def predict(mean1, var1, mean2, var2):\n",
    "    new_mean = mean1 + mean2    \n",
    "    new_var = var1 + var2\n",
    "    return [new_mean, new_var]\n",
    "\n",
    "print('New mean and variance is:',predict(10., 4., 12., 4.))"
   ]
  },
  {
   "cell_type": "markdown",
   "metadata": {},
   "source": [
    "Write a program that will iteratively update and predict based on the location measurements and inferred motions shown below. "
   ]
  },
  {
   "cell_type": "code",
   "execution_count": 3,
   "metadata": {},
   "outputs": [
    {
     "name": "stdout",
     "output_type": "stream",
     "text": [
      "New mean and variance after iterative measurement and motion:  [10.999906177177365, 4.005861580844194]\n"
     ]
    }
   ],
   "source": [
    "def update(mean1, var1, mean2, var2):\n",
    "    new_mean = float(var2 * mean1 + var1 * mean2) / (var1 + var2)\n",
    "    new_var = 1./(1./var1 + 1./var2)\n",
    "    return [new_mean, new_var]\n",
    "\n",
    "def predict(mean1, var1, mean2, var2):\n",
    "    new_mean = mean1 + mean2\n",
    "    new_var = var1 + var2\n",
    "    return [new_mean, new_var]\n",
    "\n",
    "measurements = [5., 6., 7., 9., 10.]\n",
    "motion = [1., 1., 2., 1., 1.]\n",
    "measurement_sig = 4.\n",
    "motion_sig = 2.\n",
    "mu = 0.\n",
    "sig = 10000.\n",
    "\n",
    "#Please print out ONLY the final values of the mean\n",
    "#and the variance in a list [mu, sig]. \n",
    "\n",
    "for i in range(len(measurements)):\n",
    "    [mu,sig] = update(mu,sig,measurements[i],measurement_sig)\n",
    "    [mu,sig] = predict(mu,sig,motion[i],motion_sig)\n",
    "print('New mean and variance after iterative measurement and motion: ',[mu, sig])"
   ]
  },
  {
   "attachments": {},
   "cell_type": "markdown",
   "metadata": {},
   "source": [
    "Write a function 'kalman_filter' that implements a multi dimensional Kalman Filter for the example given"
   ]
  },
  {
   "cell_type": "code",
   "execution_count": 8,
   "metadata": {},
   "outputs": [],
   "source": [
    "# Write a function 'kalman_filter' that implements a multi-\n",
    "# dimensional Kalman Filter for the example given\n",
    "\n",
    "from math import *\n",
    "\n",
    "\n",
    "class matrix:\n",
    "    \n",
    "    # implements basic operations of a matrix class\n",
    "    \n",
    "    def __init__(self, value):\n",
    "        self.value = value\n",
    "        self.dimx = len(value)\n",
    "        self.dimy = len(value[0])\n",
    "        if value == [[]]:\n",
    "            self.dimx = 0\n",
    "    \n",
    "    def zero(self, dimx, dimy):\n",
    "        # check if valid dimensions\n",
    "        if dimx < 1 or dimy < 1:\n",
    "            raise ValueError(\"Invalid size of matrix\")\n",
    "        else:\n",
    "            self.dimx = dimx\n",
    "            self.dimy = dimy\n",
    "            self.value = [[0 for row in range(dimy)] for col in range(dimx)]\n",
    "    \n",
    "    def identity(self, dim):\n",
    "        # check if valid dimension\n",
    "        if dim < 1:\n",
    "            raise ValueError(\"Invalid size of matrix\")\n",
    "        else:\n",
    "            self.dimx = dim\n",
    "            self.dimy = dim\n",
    "            self.value = [[0 for row in range(dim)] for col in range(dim)]\n",
    "            for i in range(dim):\n",
    "                self.value[i][i] = 1\n",
    "    \n",
    "    def show(self):\n",
    "        for i in range(self.dimx):\n",
    "            print(self.value[i])\n",
    "        print(' ')\n",
    "    \n",
    "    def __add__(self, other):\n",
    "        # check if correct dimensions\n",
    "        if self.dimx != other.dimx or self.dimy != other.dimy:\n",
    "            raise ValueError(\"Matrices must be of equal dimensions to add\")\n",
    "        else:\n",
    "            # add if correct dimensions\n",
    "            res = matrix([[]])\n",
    "            res.zero(self.dimx, self.dimy)\n",
    "            for i in range(self.dimx):\n",
    "                for j in range(self.dimy):\n",
    "                    res.value[i][j] = self.value[i][j] + other.value[i][j]\n",
    "            return res\n",
    "    \n",
    "    def __sub__(self, other):\n",
    "        # check if correct dimensions\n",
    "        if self.dimx != other.dimx or self.dimy != other.dimy:\n",
    "            raise ValueError(\"Matrices must be of equal dimensions to subtract\")\n",
    "        else:\n",
    "            # subtract if correct dimensions\n",
    "            res = matrix([[]])\n",
    "            res.zero(self.dimx, self.dimy)\n",
    "            for i in range(self.dimx):\n",
    "                for j in range(self.dimy):\n",
    "                    res.value[i][j] = self.value[i][j] - other.value[i][j]\n",
    "            return res\n",
    "    \n",
    "    def __mul__(self, other):\n",
    "        # check if correct dimensions\n",
    "        if self.dimy != other.dimx:\n",
    "            raise ValueError(\"Matrices must be m*n and n*p to multiply\")\n",
    "        else:\n",
    "            # multiply if correct dimensions\n",
    "            res = matrix([[]])\n",
    "            res.zero(self.dimx, other.dimy)\n",
    "            for i in range(self.dimx):\n",
    "                for j in range(other.dimy):\n",
    "                    for k in range(self.dimy):\n",
    "                        res.value[i][j] += self.value[i][k] * other.value[k][j]\n",
    "            return res\n",
    "    \n",
    "    def transpose(self):\n",
    "        # compute transpose\n",
    "        res = matrix([[]])\n",
    "        res.zero(self.dimy, self.dimx)\n",
    "        for i in range(self.dimx):\n",
    "            for j in range(self.dimy):\n",
    "                res.value[j][i] = self.value[i][j]\n",
    "        return res\n",
    "    \n",
    "    # Thanks to Ernesto P. Adorio for use of Cholesky and CholeskyInverse functions\n",
    "    \n",
    "    def Cholesky(self, ztol=1.0e-5):\n",
    "        # Computes the upper triangular Cholesky factorization of\n",
    "        # a positive definite matrix.\n",
    "        res = matrix([[]])\n",
    "        res.zero(self.dimx, self.dimx)\n",
    "        \n",
    "        for i in range(self.dimx):\n",
    "            S = sum([(res.value[k][i])**2 for k in range(i)])\n",
    "            d = self.value[i][i] - S\n",
    "            if abs(d) < ztol:\n",
    "                res.value[i][i] = 0.0\n",
    "            else:\n",
    "                if d < 0.0:\n",
    "                    raise ValueError(\"Matrix not positive-definite\")\n",
    "                res.value[i][i] = sqrt(d)\n",
    "            for j in range(i+1, self.dimx):\n",
    "                S = sum([res.value[k][i] * res.value[k][j] for k in range(self.dimx)])\n",
    "                if abs(S) < ztol:\n",
    "                    S = 0.0\n",
    "                try:\n",
    "                   res.value[i][j] = (self.value[i][j] - S)/res.value[i][i]\n",
    "                except:\n",
    "                   raise ValueError(\"Zero diagonal\")\n",
    "        return res\n",
    "    \n",
    "    def CholeskyInverse(self):\n",
    "        # Computes inverse of matrix given its Cholesky upper Triangular\n",
    "        # decomposition of matrix.\n",
    "        res = matrix([[]])\n",
    "        res.zero(self.dimx, self.dimx)\n",
    "        \n",
    "        # Backward step for inverse.\n",
    "        for j in reversed(range(self.dimx)):\n",
    "            tjj = self.value[j][j]\n",
    "            S = sum([self.value[j][k]*res.value[j][k] for k in range(j+1, self.dimx)])\n",
    "            res.value[j][j] = 1.0/tjj**2 - S/tjj\n",
    "            for i in reversed(range(j)):\n",
    "                res.value[j][i] = res.value[i][j] = -sum([self.value[i][k]*res.value[k][j] for k in range(i+1, self.dimx)])/self.value[i][i]\n",
    "        return res\n",
    "    \n",
    "    def inverse(self):\n",
    "        aux = self.Cholesky()\n",
    "        res = aux.CholeskyInverse()\n",
    "        return res\n",
    "    \n",
    "    def __repr__(self):\n",
    "        return repr(self.value)"
   ]
  },
  {
   "cell_type": "code",
   "execution_count": 9,
   "metadata": {},
   "outputs": [
    {
     "name": "stdout",
     "output_type": "stream",
     "text": [
      "x:  [[3.9996664447958645], [0.9999998335552873]]\n",
      "P:  [[2.3318904241194827, 0.9991676099921091], [0.9991676099921067, 0.49950058263974184]]\n"
     ]
    }
   ],
   "source": [
    "# Implement the filter function below\n",
    "\n",
    "def kalman_filter(x, P):\n",
    "    \n",
    "    for n in range(len(measurements)):\n",
    "        global u, F, H, R, I\n",
    "        \n",
    "        # measurement update\n",
    "        Z = matrix([[measurements[n]]])\n",
    "        y = Z - (H*x)\n",
    "        S = H* P * H.transpose() + R\n",
    "        K = P * H.transpose() * S.inverse()\n",
    "        x = x + (K * y)\n",
    "        P = (I - (K * H)) * P\n",
    "            # prediction\n",
    "        x = (F * x) + u\n",
    "        P = F* P *F.transpose()\n",
    "    return x,P\n",
    "\n",
    "############################################\n",
    "### use the code below to test your filter!\n",
    "############################################\n",
    "\n",
    "measurements = [1, 2, 3]\n",
    "\n",
    "x = matrix([[0.], [0.]]) # initial state (location and velocity)\n",
    "P = matrix([[1000., 0.], [0., 1000.]]) # initial uncertainty\n",
    "u = matrix([[0.], [0.]]) # external motion\n",
    "F = matrix([[1., 1.], [0, 1.]]) # next state function\n",
    "H = matrix([[1., 0.]]) # measurement function\n",
    "R = matrix([[1.]]) # measurement uncertainty\n",
    "I = matrix([[1., 0.], [0., 1.]]) # identity matrix\n",
    "\n",
    "result = kalman_filter(x, P)\n",
    "print('x: ', result[0])\n",
    "print('P: ', result[1])\n",
    "# output should be:\n",
    "# x: [[3.9996664447958645], [0.9999998335552873]]\n",
    "# P: [[2.3318904241194827, 0.9991676099921091], [0.9991676099921067, 0.49950058263974184]]"
   ]
  }
 ],
 "metadata": {
  "kernelspec": {
   "display_name": "influxdb",
   "language": "python",
   "name": "python3"
  },
  "language_info": {
   "codemirror_mode": {
    "name": "ipython",
    "version": 3
   },
   "file_extension": ".py",
   "mimetype": "text/x-python",
   "name": "python",
   "nbconvert_exporter": "python",
   "pygments_lexer": "ipython3",
   "version": "3.10.4 (main, Mar 31 2022, 03:38:35) [Clang 12.0.0 ]"
  },
  "orig_nbformat": 4,
  "vscode": {
   "interpreter": {
    "hash": "a25d599a2e9280dc659304a6cea12817ac5350485da20306c9a7c613d9928b5e"
   }
  }
 },
 "nbformat": 4,
 "nbformat_minor": 2
}
