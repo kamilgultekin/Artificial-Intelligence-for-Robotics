{
 "cells": [
  {
   "cell_type": "markdown",
   "metadata": {},
   "source": [
    "# Localization\n",
    "---"
   ]
  },
  {
   "cell_type": "markdown",
   "metadata": {},
   "source": [
    "## Uniform Distribution"
   ]
  },
  {
   "cell_type": "code",
   "execution_count": 1,
   "metadata": {},
   "outputs": [
    {
     "name": "stdout",
     "output_type": "stream",
     "text": [
      "[0.2, 0.2, 0.2, 0.2, 0.2]\n"
     ]
    }
   ],
   "source": [
    "# Modify the empty list, p, so that it becomes a UNIFORM probability\n",
    "# distribution over five grid cells, as expressed in a list of \n",
    "# five probabilities.\n",
    "\n",
    "p = []\n",
    "for i in range(5):\n",
    "    p.append(0.2)\n",
    "print(p)"
   ]
  },
  {
   "cell_type": "code",
   "execution_count": 7,
   "metadata": {},
   "outputs": [
    {
     "name": "stdout",
     "output_type": "stream",
     "text": [
      "[0.2, 0.2, 0.2, 0.2, 0.2]\n"
     ]
    }
   ],
   "source": [
    "#  Modify your code to create probability vectors, p, of arbitrary \n",
    "#  size, n. Use n=5 to verify that your new solution matches \n",
    "#  the previous one.\n",
    "\n",
    "p=[]\n",
    "n=5\n",
    "for i in range(n):\n",
    "    p.append(1/n)\n",
    "print(p)"
   ]
  },
  {
   "cell_type": "code",
   "execution_count": 19,
   "metadata": {},
   "outputs": [
    {
     "name": "stdout",
     "output_type": "stream",
     "text": [
      "The probability of being in each cell after the first measurement is: [0.04000000000000001, 0.12, 0.12, 0.04000000000000001, 0.04000000000000001]\n",
      "--------------------------------------------------------\n",
      "Sum of all the entries in the list p is: 0.36\n"
     ]
    }
   ],
   "source": [
    "#Write code that outputs p after multiplying each entry \n",
    "#by pHit or pMiss at the appropriate places. Remember that\n",
    "#the red cells 1 and 2 are hits and the other green cells\n",
    "#are misses.\n",
    "\n",
    "p=[0.2,0.2,0.2,0.2,0.2]\n",
    "pHit = 0.6\n",
    "pMiss = 0.2\n",
    "\n",
    "#Enter code here\n",
    "p[0] = p[0] * pMiss\n",
    "p[1] = p[1] * pHit\n",
    "p[2] = p[2] * pHit\n",
    "p[3] = p[3] * pMiss\n",
    "p[4] = p[4] * pMiss\n",
    "\n",
    "print('The probability of being in each cell after the first measurement is:',p)\n",
    "print(4*'--------------')\n",
    "# Reminder, we're looking for:\n",
    "\n",
    "# [miss, hit, hit, miss, miss]\n",
    "\n",
    "#Modify the program to find and print the sum of all \n",
    "#the entries in the list p.\n",
    "\n",
    "sum = 0\n",
    "for i in range(len(p)):\n",
    "    sum = sum + p[i]\n",
    "print('Sum of all the entries in the list p is:',round(sum,3))\n"
   ]
  },
  {
   "cell_type": "code",
   "execution_count": 34,
   "metadata": {},
   "outputs": [
    {
     "name": "stdout",
     "output_type": "stream",
     "text": [
      "Probality:\n",
      " [0.04000000000000001, 0.12, 0.12, 0.04000000000000001, 0.04000000000000001]\n",
      "--------------------------------------------------------\n",
      "Normalized Probability:\n",
      " [0.1111111111111111, 0.3333333333333332, 0.3333333333333332, 0.1111111111111111, 0.1111111111111111]\n"
     ]
    }
   ],
   "source": [
    "#Modify the code below so that the function sense, which \n",
    "#takes p and Z as inputs, will output the NON-normalized \n",
    "#probability distribution, q, after multiplying the entries \n",
    "#in p by pHit or pMiss according to the color in the \n",
    "#corresponding cell in world.\n",
    "\n",
    "\n",
    "p=[0.2, 0.2, 0.2, 0.2, 0.2]\n",
    "world=['green', 'red', 'red', 'green', 'green']\n",
    "Z = 'red'\n",
    "pHit = 0.6\n",
    "pMiss = 0.2\n",
    "\n",
    "def sense(p, Z):\n",
    "    #\n",
    "    q = []\n",
    "    for i in range(len(p)):\n",
    "        hit = (Z == world[i])\n",
    "        q.append(p[i]*(hit * pHit + (1-hit) * pMiss))\n",
    "    #\n",
    "    return q\n",
    "\n",
    "q = sense(p,Z)\n",
    "print('Probality:\\n',q)\n",
    "print(4*'--------------')\n",
    "\n",
    "#Modify your code so that it normalizes the output for \n",
    "#the function sense. This means that the entries in q \n",
    "#should sum to one.\n",
    "sum = 0\n",
    "for i in range(len(q)):\n",
    "    sum = sum + q[i]\n",
    "for i in range(len(q)):\n",
    "    q[i] = q[i]/sum\n",
    "print('Normalized Probability:\\n',q)"
   ]
  },
  {
   "cell_type": "code",
   "execution_count": 35,
   "metadata": {},
   "outputs": [
    {
     "name": "stdout",
     "output_type": "stream",
     "text": [
      "Probality:\n",
      " [0.12, 0.04000000000000001, 0.04000000000000001, 0.12, 0.12]\n",
      "--------------------------------------------------------\n",
      "Normalized Probability:\n",
      " [0.2727272727272727, 0.09090909090909093, 0.09090909090909093, 0.2727272727272727, 0.2727272727272727]\n"
     ]
    }
   ],
   "source": [
    "#Try using your code with a measurement of 'green' and \n",
    "#make sure the resulting probability distribution is correct.\n",
    "Z = 'green'\n",
    "q = sense(p,Z)\n",
    "print('Probality:\\n',q)\n",
    "print(4*'--------------')\n",
    "sum = 0\n",
    "for i in range(len(q)):\n",
    "    sum = sum + q[i]\n",
    "for i in range(len(q)):\n",
    "    q[i] = q[i]/sum\n",
    "print('Normalized Probability:\\n',q)"
   ]
  },
  {
   "cell_type": "code",
   "execution_count": 52,
   "metadata": {},
   "outputs": [
    {
     "name": "stdout",
     "output_type": "stream",
     "text": [
      "Normalized Probality:\n",
      " [0.20000000000000007, 0.1999999999999999, 0.1999999999999999, 0.20000000000000007, 0.20000000000000007]\n"
     ]
    }
   ],
   "source": [
    "#Modify the code so that it updates the probability twice\n",
    "#and gives the posterior distribution after both \n",
    "#measurements are incorporated. Make sure that your code \n",
    "#allows for any sequence of measurement of any length.\n",
    "measurements = ['red', 'green']\n",
    "\n",
    "def sense(p, Z):\n",
    "    #\n",
    "    q = []\n",
    "    for i in range(len(p)):\n",
    "        hit = (Z == world[i])\n",
    "        q.append(p[i]*(hit * pHit + (1-hit) * pMiss))\n",
    "    sum = 0\n",
    "    for i in range(len(q)):\n",
    "        sum = sum + q[i]\n",
    "    for i in range(len(q)):\n",
    "        q[i] = q[i]/sum\n",
    "    return q\n",
    "\n",
    "for i in range(len(measurements)):\n",
    "    p = sense(p,measurements[i])\n",
    "\n",
    "print('Normalized Probality:\\n',p)\n"
   ]
  },
  {
   "cell_type": "code",
   "execution_count": null,
   "metadata": {},
   "outputs": [],
   "source": []
  }
 ],
 "metadata": {
  "kernelspec": {
   "display_name": "Python 3.10.4 ('influxdb')",
   "language": "python",
   "name": "python3"
  },
  "language_info": {
   "codemirror_mode": {
    "name": "ipython",
    "version": 3
   },
   "file_extension": ".py",
   "mimetype": "text/x-python",
   "name": "python",
   "nbconvert_exporter": "python",
   "pygments_lexer": "ipython3",
   "version": "3.10.4"
  },
  "orig_nbformat": 4,
  "vscode": {
   "interpreter": {
    "hash": "a25d599a2e9280dc659304a6cea12817ac5350485da20306c9a7c613d9928b5e"
   }
  }
 },
 "nbformat": 4,
 "nbformat_minor": 2
}
