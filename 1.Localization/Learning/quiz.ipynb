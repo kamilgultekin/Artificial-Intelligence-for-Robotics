{
 "cells": [
  {
   "attachments": {},
   "cell_type": "markdown",
   "metadata": {},
   "source": [
    "# Localization\n",
    "---\n",
    "In the context of robotics, localization refers to the process of determining the position and orientation of a robot within its environment. This information is important for the robot to be able to navigate and perform its tasks successfully. Localization can be achieved using a variety of techniques, such as using sensors and landmarks in the environment, or by using external sources of information such as GPS."
   ]
  },
  {
   "attachments": {},
   "cell_type": "markdown",
   "metadata": {},
   "source": [
    "## Uniform Distribution\n",
    "---\n",
    "\n",
    "In probability theory and statistics, a uniform distribution is a type of probability distribution in which all outcomes are equally likely to occur. This means that, given a set of possible outcomes, each outcome has the same probability of occurring. For example, if a fair six-sided die is rolled, each of the numbers 1 through 6 would have an equal chance of being the result of the roll. This is an example of a uniform distribution.\n",
    "\n",
    "---\n",
    "\n",
    "## Quiz Questions\n",
    "Modify the empty list, p, so that it becomes a UNIFORM probability distribution over five grid cells, as expressed in a list of five probabilities."
   ]
  },
  {
   "cell_type": "code",
   "execution_count": 12,
   "metadata": {},
   "outputs": [
    {
     "name": "stdout",
     "output_type": "stream",
     "text": [
      "[0.2, 0.2, 0.2, 0.2, 0.2]\n"
     ]
    }
   ],
   "source": [
    "p = []\n",
    "for i in range(5):\n",
    "    p.append(0.2)\n",
    "print(p)"
   ]
  },
  {
   "attachments": {},
   "cell_type": "markdown",
   "metadata": {},
   "source": [
    "Modify your code to create probability vectors, p, of arbitrary size, n. Use n=5 to verify that your new solution matches the previous one."
   ]
  },
  {
   "cell_type": "code",
   "execution_count": 13,
   "metadata": {},
   "outputs": [
    {
     "name": "stdout",
     "output_type": "stream",
     "text": [
      "[0.2, 0.2, 0.2, 0.2, 0.2]\n"
     ]
    }
   ],
   "source": [
    "n=5\n",
    "p = []\n",
    "for i in range(n):\n",
    "    p.append(1/n)\n",
    "print(p)"
   ]
  },
  {
   "attachments": {},
   "cell_type": "markdown",
   "metadata": {},
   "source": [
    "Write code that outputs p after multiplying each entry by pHit or pMiss at the appropriate places. Remember that the red cells 1 and 2 are hits and the other green cells are misses."
   ]
  },
  {
   "cell_type": "code",
   "execution_count": 20,
   "metadata": {},
   "outputs": [
    {
     "name": "stdout",
     "output_type": "stream",
     "text": [
      "The probability of being in each cell after the first measurement is: [0.04, 0.12, 0.12, 0.04, 0.04]\n"
     ]
    }
   ],
   "source": [
    "pHit = 0.6\n",
    "pMiss = 0.2\n",
    "p=[0.2,0.2,0.2,0.2,0.2]\n",
    "\n",
    "# The probability of being in each cell after the first measurement is:\n",
    "p[0] = round(p[0] * pMiss,3)\n",
    "p[1] = round(p[1] * pHit,3)\n",
    "p[2] = round(p[2] * pHit,3)\n",
    "p[3] = round(p[3] * pMiss,3)\n",
    "p[4] = round(p[4] * pMiss,3)\n",
    "\n",
    "print('The probability of being in each cell after the first measurement is:',p)\n",
    "# Reminder, we're looking for:\n",
    "\n",
    "# [miss, hit, hit, miss, miss]"
   ]
  },
  {
   "attachments": {},
   "cell_type": "markdown",
   "metadata": {},
   "source": [
    "Modify the program to find and print the sum of all the entries in the list p."
   ]
  },
  {
   "cell_type": "code",
   "execution_count": 21,
   "metadata": {},
   "outputs": [
    {
     "name": "stdout",
     "output_type": "stream",
     "text": [
      "Sum of all the entries in the list p is: 0.36\n"
     ]
    }
   ],
   "source": [
    "sum = 0\n",
    "for i in range(len(p)):\n",
    "    sum = sum + p[i]\n",
    "print('Sum of all the entries in the list p is:',round(sum,3))"
   ]
  },
  {
   "attachments": {},
   "cell_type": "markdown",
   "metadata": {},
   "source": [
    "Modify the code below so that the function sense, which takes p and Z as inputs, will output the NON-normalized probability distribution, q, after multiplying the entries in p by pHit or pMiss according to the color in the corresponding cell in world."
   ]
  },
  {
   "cell_type": "code",
   "execution_count": 36,
   "metadata": {},
   "outputs": [
    {
     "name": "stdout",
     "output_type": "stream",
     "text": [
      "Probality:\n",
      " [0.04, 0.12, 0.12, 0.04, 0.04]\n"
     ]
    }
   ],
   "source": [
    "p=[0.2, 0.2, 0.2, 0.2, 0.2]\n",
    "world=['green', 'red', 'red', 'green', 'green']\n",
    "Z = 'red'\n",
    "pHit = 0.6\n",
    "pMiss = 0.2\n",
    "\n",
    "def sense(p, Z):\n",
    "    #\n",
    "    q = []\n",
    "    for i in range(len(p)):\n",
    "        hit = (Z == world[i])\n",
    "        q.append(round(p[i]*(hit * pHit + (1-hit) * pMiss),3))\n",
    "    return q\n",
    "\n",
    "q = sense(p,Z)\n",
    "print('Probality:\\n',q)"
   ]
  },
  {
   "attachments": {},
   "cell_type": "markdown",
   "metadata": {},
   "source": [
    "Modify your code so that it normalizes the output for the function sense. This means that the entries in q should sum to one."
   ]
  },
  {
   "cell_type": "code",
   "execution_count": 28,
   "metadata": {},
   "outputs": [
    {
     "name": "stdout",
     "output_type": "stream",
     "text": [
      "Normalized Probability:\n",
      " [0.111, 0.333, 0.333, 0.111, 0.111]\n"
     ]
    }
   ],
   "source": [
    "sum = 0\n",
    "for i in range(len(q)):\n",
    "    sum = sum + q[i]\n",
    "for i in range(len(q)):\n",
    "    q[i] = round(q[i]/sum,3)\n",
    "print('Normalized Probability:\\n',q)"
   ]
  },
  {
   "attachments": {},
   "cell_type": "markdown",
   "metadata": {},
   "source": [
    "Try using your code with a measurement of 'green' and make sure the resulting probability distribution is correct."
   ]
  },
  {
   "cell_type": "code",
   "execution_count": 31,
   "metadata": {},
   "outputs": [
    {
     "name": "stdout",
     "output_type": "stream",
     "text": [
      "Probality:\n",
      " [0.12, 0.04, 0.04, 0.12, 0.12]\n",
      "--------------------------------------------------------\n",
      "Normalized Probability:\n",
      " [0.273, 0.091, 0.091, 0.273, 0.273]\n"
     ]
    }
   ],
   "source": [
    "Z = 'green'\n",
    "q = sense(p,Z)\n",
    "print('Probality:\\n',q)\n",
    "print(4*'--------------')\n",
    "sum = 0\n",
    "for i in range(len(q)):\n",
    "    sum = sum + q[i]\n",
    "for i in range(len(q)):\n",
    "    q[i] = round(q[i]/sum,3)\n",
    "print('Normalized Probability:\\n',q)"
   ]
  },
  {
   "cell_type": "markdown",
   "metadata": {},
   "source": [
    "Modify the code so that it updates the probability twice and gives the posterior distribution after both measurements are incorporated. Make sure that your code allows for any sequence of measurement of any length."
   ]
  },
  {
   "cell_type": "code",
   "execution_count": 37,
   "metadata": {},
   "outputs": [
    {
     "name": "stdout",
     "output_type": "stream",
     "text": [
      "Normalized Probality:\n",
      " [0.20000000000000004, 0.19999999999999996, 0.19999999999999996, 0.20000000000000004, 0.20000000000000004]\n"
     ]
    }
   ],
   "source": [
    "measurements = ['red', 'green']\n",
    "\n",
    "def sense(p, Z):\n",
    "    #\n",
    "    q = []\n",
    "    for i in range(len(p)):\n",
    "        hit = (Z == world[i])\n",
    "        q.append(p[i]*(hit * pHit + (1-hit) * pMiss))\n",
    "    sum = 0\n",
    "    for i in range(len(q)):\n",
    "        sum = sum + q[i]\n",
    "    for i in range(len(q)):\n",
    "        q[i] = q[i]/sum\n",
    "    return q\n",
    "\n",
    "for i in range(len(measurements)):\n",
    "    p = sense(p,measurements[i])\n",
    "\n",
    "print('Normalized Probality:\\n',p)\n"
   ]
  },
  {
   "attachments": {},
   "cell_type": "markdown",
   "metadata": {},
   "source": [
    "Program a function that returns a new distribution q, shifted to the right by U units. If U=0, q should be the same as p."
   ]
  },
  {
   "cell_type": "code",
   "execution_count": 38,
   "metadata": {},
   "outputs": [
    {
     "name": "stdout",
     "output_type": "stream",
     "text": [
      "[0, 0, 1, 0, 0]\n"
     ]
    }
   ],
   "source": [
    "p=[0, 1, 0, 0, 0]\n",
    "world=['green', 'red', 'red', 'green', 'green']\n",
    "measurements = ['red', 'green']\n",
    "pHit = 0.6\n",
    "pMiss = 0.2\n",
    "\n",
    "def sense(p, Z):\n",
    "    q=[]\n",
    "    for i in range(len(p)):\n",
    "        hit = (Z == world[i])\n",
    "        q.append(p[i] * (hit * pHit + (1-hit) * pMiss))\n",
    "    s = sum(q)\n",
    "    for i in range(len(q)):\n",
    "        q[i] = q[i] / s\n",
    "    return q\n",
    "\n",
    "def move(p, U):\n",
    "    #\n",
    "    q = []\n",
    "    for i in range(len(p)):\n",
    "        q.append(p[i-U % len(p)])\n",
    "    return q\n",
    "\n",
    "print(move(p, 1))\n"
   ]
  },
  {
   "attachments": {},
   "cell_type": "markdown",
   "metadata": {},
   "source": [
    "Modify the move function to accommodate the added probabilities of overshooting or undershooting the intended destination."
   ]
  },
  {
   "cell_type": "code",
   "execution_count": 46,
   "metadata": {},
   "outputs": [
    {
     "name": "stdout",
     "output_type": "stream",
     "text": [
      "[0.0, 0.1, 0.8, 0.1, 0.0]\n"
     ]
    }
   ],
   "source": [
    "p=[0, 1, 0, 0, 0]\n",
    "world=['green', 'red', 'red', 'green', 'green']\n",
    "measurements = ['red', 'green']\n",
    "pHit = 0.6\n",
    "pMiss = 0.2\n",
    "pExact = 0.8\n",
    "pOvershoot = 0.1\n",
    "pUndershoot = 0.1\n",
    "\n",
    "def sense(p, Z):\n",
    "    q=[]\n",
    "    for i in range(len(p)):\n",
    "        hit = (Z == world[i])\n",
    "        q.append(p[i] * (hit * pHit + (1-hit) * pMiss))\n",
    "    sum = 0\n",
    "    for i in range(len(q)):\n",
    "        sum = sum + q[i]\n",
    "    for i in range(len(q)):\n",
    "        q[i] = q[i] / sum\n",
    "    return q\n",
    "\n",
    "def move(p, U):\n",
    "    q = []\n",
    "    for i in range(len(p)):\n",
    "        s = pExact * p[(i-U) % len(p)]\n",
    "        s = s + pOvershoot * p[(i-U-1) % len(p)]\n",
    "        s = s + pUndershoot * p[(i-U+1) % len(p)]\n",
    "        q.append(s)\n",
    "    return q\n",
    "    \n",
    "print(move(p, 1))"
   ]
  },
  {
   "attachments": {},
   "cell_type": "markdown",
   "metadata": {},
   "source": [
    "Write code that makes the robot move twice and then prints out the resulting distribution, starting with the initial distribution p = [0, 1, 0, 0, 0]"
   ]
  },
  {
   "cell_type": "code",
   "execution_count": 40,
   "metadata": {},
   "outputs": [
    {
     "name": "stdout",
     "output_type": "stream",
     "text": [
      "[0.010000000000000002, 0.010000000000000002, 0.16000000000000003, 0.6600000000000001, 0.16000000000000003]\n"
     ]
    }
   ],
   "source": [
    "p = move(p,1)\n",
    "p = move(p,1)\n",
    "print(p)"
   ]
  },
  {
   "attachments": {},
   "cell_type": "markdown",
   "metadata": {},
   "source": [
    "Write code that moves 1000 times and then prints the resulting probability distribution."
   ]
  },
  {
   "cell_type": "code",
   "execution_count": 41,
   "metadata": {},
   "outputs": [
    {
     "name": "stdout",
     "output_type": "stream",
     "text": [
      "[0.2000000000000035, 0.2000000000000035, 0.20000000000000365, 0.20000000000000373, 0.20000000000000365]\n"
     ]
    }
   ],
   "source": [
    "for i in range(1000):\n",
    "    p = move(p,1)\n",
    "print(p)"
   ]
  },
  {
   "attachments": {},
   "cell_type": "markdown",
   "metadata": {},
   "source": [
    "Given the list motions=[1,1] which means the robot moves right and then right again, compute the posterior distribution if the robot first senses red, then moves right one, then senses green, then moves right again, starting with a uniform prior distribution."
   ]
  },
  {
   "cell_type": "code",
   "execution_count": 48,
   "metadata": {},
   "outputs": [
    {
     "name": "stdout",
     "output_type": "stream",
     "text": [
      "[0.21157894736842103, 0.1515789473684211, 0.08105263157894739, 0.16842105263157897, 0.3873684210526316]\n"
     ]
    }
   ],
   "source": [
    "p=[0.2, 0.2, 0.2, 0.2, 0.2]\n",
    "world=['green', 'red', 'red', 'green', 'green']\n",
    "measurements = ['red', 'green']\n",
    "motions = [1,1]\n",
    "pHit = 0.6\n",
    "pMiss = 0.2\n",
    "pExact = 0.8\n",
    "pOvershoot = 0.1\n",
    "pUndershoot = 0.1\n",
    "\n",
    "for k in range(len(measurements)):\n",
    "    p = sense(p,measurements[k])\n",
    "    p = move(p,motions[k])\n",
    "print(p)"
   ]
  }
 ],
 "metadata": {
  "kernelspec": {
   "display_name": "base",
   "language": "python",
   "name": "python3"
  },
  "language_info": {
   "codemirror_mode": {
    "name": "ipython",
    "version": 3
   },
   "file_extension": ".py",
   "mimetype": "text/x-python",
   "name": "python",
   "nbconvert_exporter": "python",
   "pygments_lexer": "ipython3",
   "version": "3.9.12"
  },
  "orig_nbformat": 4,
  "vscode": {
   "interpreter": {
    "hash": "fc5c63bf4f79c1ab504c266b2c596ecc20be28e85dbb65aca3a02785a15077b7"
   }
  }
 },
 "nbformat": 4,
 "nbformat_minor": 2
}
